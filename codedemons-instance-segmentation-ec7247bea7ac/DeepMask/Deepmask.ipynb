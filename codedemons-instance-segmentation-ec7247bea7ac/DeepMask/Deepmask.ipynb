{
  "nbformat": 4,
  "nbformat_minor": 0,
  "metadata": {
    "colab": {
      "name": "Deepmask.ipynb",
      "provenance": [],
      "collapsed_sections": [],
      "machine_shape": "hm"
    },
    "kernelspec": {
      "name": "python3",
      "display_name": "Python 3"
    },
    "accelerator": "TPU"
  },
  "cells": [
    {
      "cell_type": "code",
      "metadata": {
        "id": "PLiPqh5uQx_K",
        "colab_type": "code",
        "outputId": "c4b55e72-2553-40ba-f7f4-ca8c67a69220",
        "colab": {
          "base_uri": "https://localhost:8080/",
          "height": 34
        }
      },
      "source": [
        "#loading the libraries\n",
        "from collections import deque\n",
        "from PIL import Image, ImageDraw\n",
        "import cv2\n",
        "import numpy as np\n",
        "import tensorflow as tf\n",
        "from pycocotools.coco import COCO\n",
        "from tqdm import tqdm\n",
        "import sys\n",
        "import os\n",
        "import matplotlib.pyplot as plt\n",
        "from keras.layers import Dense, Input, Convolution2D, Flatten, Reshape, Dropout, MaxPooling2D\n",
        "from keras.applications import vgg16\n",
        "from keras.optimizers import SGD\n",
        "from keras import backend as K\n",
        "from keras.models import Model, model_from_json\n",
        "from skimage.io import imread\n",
        "from keras.engine import Layer"
      ],
      "execution_count": 0,
      "outputs": [
        {
          "output_type": "stream",
          "text": [
            "Using TensorFlow backend.\n"
          ],
          "name": "stderr"
        }
      ]
    },
    {
      "cell_type": "code",
      "metadata": {
        "id": "NDO6OMHlTPiC",
        "colab_type": "code",
        "colab": {}
      },
      "source": [
        "!wget http://images.cocodataset.org/annotations/annotations_trainval2017.zip\n",
        "!wget http://images.cocodataset.org/zips/val2017.zip"
      ],
      "execution_count": 0,
      "outputs": []
    },
    {
      "cell_type": "code",
      "metadata": {
        "id": "5fkDZhmyTPQ-",
        "colab_type": "code",
        "colab": {}
      },
      "source": [
        "!unzip /content/val2017.zip\n",
        "!unzip /content/annotations_trainval2017.zip"
      ],
      "execution_count": 0,
      "outputs": []
    },
    {
      "cell_type": "code",
      "metadata": {
        "id": "bFL6QPP8521z",
        "colab_type": "code",
        "colab": {}
      },
      "source": [
        " !mv /content/annotations /content/coco"
      ],
      "execution_count": 0,
      "outputs": []
    },
    {
      "cell_type": "code",
      "metadata": {
        "id": "oPBL1OytTx06",
        "colab_type": "code",
        "colab": {}
      },
      "source": [
        " !mv /content/val2017 /content/images\n",
        " !mv /content/images /content/coco  \n",
        "# !mv /content/coco/instances_val2017.json /content/coco/annotations"
      ],
      "execution_count": 0,
      "outputs": []
    },
    {
      "cell_type": "code",
      "metadata": {
        "id": "Gl3L5SIzQ-Z2",
        "colab_type": "code",
        "colab": {}
      },
      "source": [
        "# Data Preparation\n",
        "class data(object):\n",
        "    def __init__(self, dataDir, max_file_size=150000):\n",
        "        self.data_path = dataDir\n",
        "        self.max_file_size = max_file_size\n",
        "\n",
        "\n",
        "    def get_score(self, ann, img):\n",
        "        ann_ratio = ann['area'] / (img['width'] * img['height'])\n",
        "\n",
        "        ann_center = (int(ann['bbox'][0] + ann['bbox'][2] / 2), int(ann['bbox'][1] + ann['bbox'][3] / 2))\n",
        "        ann_center_bounds = (range(int(img['width'] / 4), int(img['width'] - img['width'] / 4)),\n",
        "                             range(int(img['height'] / 4), int(img['height'] - img['height'] / 4)))\n",
        "        ann_centered = ann_center[0] in ann_center_bounds[0] and ann_center[1] in ann_center_bounds[1]\n",
        "\n",
        "        ann_br = (int(ann['bbox'][0] + ann['bbox'][2]), int(ann['bbox'][1] + ann['bbox'][3]))\n",
        "        ann_fully_contained = ann['bbox'][0] > 0 and ann['bbox'][1] > 0 and \\\n",
        "                              ann_br[0] < img['width'] and ann_br[1] < img['height']\n",
        "\n",
        "        return 1 if  ann['iscrowd'] == 0 and ann_ratio > 0.05 and ann_centered and ann_fully_contained else -1\n",
        "\n",
        "\n",
        "    def create_data(self,data_type):\n",
        "        coco = COCO('{}/annotations/instances_{}.json'.format(self.data_path, data_type))\n",
        "\n",
        "\n",
        "        imgIds = coco.getImgIds()\n",
        "\n",
        "        scores=[]\n",
        "        masks=[]\n",
        "        images=[]\n",
        "        for id in imgIds :\n",
        "            img = coco.loadImgs(id)[0]\n",
        "            im_path = '{}/images/{}'.format(self.data_path, img['file_name'])\n",
        "            image=imread(im_path)\n",
        "            image = cv2.resize(image, (224, 224)).astype(np.float32)\n",
        "\n",
        "            annIds = coco.getAnnIds(imgIds=[id], iscrowd=0)\n",
        "            anns = coco.loadAnns(annIds)\n",
        "            if (image.shape== (224, 224, 3)):\n",
        "              for ann in anns:\n",
        "                  score = self.get_score(ann, img)\n",
        "                  if score > 0:\n",
        "                      mask = Image.new('F', (img['width'], img['height']), color=-1)\n",
        "                      segs = list(zip(*[iter(ann['segmentation'][0])] * 2))\n",
        "                      ImageDraw.Draw(mask).polygon(segs, outline=1, fill=1)\n",
        "                      mask = np.asarray(mask)\n",
        "                      mask = cv2.resize(mask, (224, 224))\n",
        "                      mask = np.where(mask == -1.0, -1, 1).astype(np.int8)\n",
        "                      scores.append(score)\n",
        "                      masks.append(mask)\n",
        "                      images.append(image)\n",
        "        return np.asarray(scores),np.asarray(masks),np.asarray(images)"
      ],
      "execution_count": 0,
      "outputs": []
    },
    {
      "cell_type": "code",
      "metadata": {
        "id": "mJ0cNmHOZlH4",
        "colab_type": "code",
        "outputId": "be924f59-8021-4d68-e1ec-74e9161b5568",
        "colab": {
          "base_uri": "https://localhost:8080/",
          "height": 86
        }
      },
      "source": [
        "# Loading the data\n",
        "dataDir = '/content/coco'\n",
        "dataType = 'val2017'\n",
        "rc = data(dataDir)\n",
        "sc,ma,im=rc.create_data(dataType)"
      ],
      "execution_count": 0,
      "outputs": [
        {
          "output_type": "stream",
          "text": [
            "loading annotations into memory...\n",
            "Done (t=0.74s)\n",
            "creating index...\n",
            "index created!\n"
          ],
          "name": "stdout"
        }
      ]
    },
    {
      "cell_type": "code",
      "metadata": {
        "id": "x_aCWI2BUuq3",
        "colab_type": "code",
        "colab": {}
      },
      "source": [
        "# Getting the pretrrained model from VGG16\n",
        "def initVgg16():\n",
        "    vgg = vgg16.VGG16(weights=\"imagenet\")\n",
        "    inp = Input(shape=(224, 224, 3), name='in')\n",
        "    shared_layers = vgg.layers[1](inp)\n",
        "    for i in range(len(vgg.layers)):\n",
        "        if 1 < i < len(vgg.layers) - 5:\n",
        "            shared_layers = vgg.layers[i](shared_layers)\n",
        "    return inp, shared_layers"
      ],
      "execution_count": 0,
      "outputs": []
    },
    {
      "cell_type": "code",
      "metadata": {
        "id": "6lH7ISW7tc1v",
        "colab_type": "code",
        "colab": {}
      },
      "source": [
        "# Upsampling the generated masks\n",
        "class BilinearUpsampling(Layer):\n",
        "\n",
        "  def __init__(self, upsampling, data_format=None, **kwargs):\n",
        "\n",
        "      super(BilinearUpsampling, self).__init__(**kwargs)\n",
        "      self.upsampling = upsampling\n",
        "\n",
        "  def call(self, inputs):\n",
        "    seg=tf.image.resize_bilinear(inputs, (int(inputs.shape[1]*self.upsampling[0]),\n",
        "                                        int(inputs.shape[2]*self.upsampling[1])))\n",
        "    seg=tf.squeeze(seg,3)\n",
        "    return seg\n",
        "  def compute_output_shape(self, input_shape):\n",
        "    height = self.upsampling[0] * input_shape[1] if input_shape[1] is not None else None\n",
        "    width = self.upsampling[1] *input_shape[2] if input_shape[2] is not None else None\n",
        "    return (input_shape[0], height,width)"
      ],
      "execution_count": 0,
      "outputs": []
    },
    {
      "cell_type": "code",
      "metadata": {
        "id": "2WGgxZwhUunf",
        "colab_type": "code",
        "colab": {}
      },
      "source": [
        "# Layers for score predictions and mask generation\n",
        "inp, shared_layers = initVgg16()\n",
        "score_predictions = MaxPooling2D(pool_size=(2, 2), strides=(2, 2))(shared_layers)\n",
        "score_predictions = Flatten()(score_predictions)\n",
        "score_predictions = Dense(512, activation='relu')(score_predictions)\n",
        "score_predictions = Dropout(0.5)(score_predictions)\n",
        "# to change in order to the number of classes\n",
        "score_predictions = Dense(10, activation='relu')(score_predictions)\n",
        "score_predictions = Dropout(0.5)(score_predictions)\n",
        "score_predictions = Dense(1, name='score_out')(score_predictions)\n",
        "\n",
        "seg_predictions = Convolution2D(512, (1, 1), activation='relu')(shared_layers)\n",
        "seg_predictions = Flatten()(seg_predictions)\n",
        "seg_predictions = Dense(512)(seg_predictions)\n",
        "seg_predictions = Dense(56 * 56)(seg_predictions)\n",
        "seg_predictions = Reshape(target_shape=(56,56,1))(seg_predictions))\n",
        "seg_predictions = BilinearUpsampling((4,4),name='seg_out')(seg_predictions)"
      ],
      "execution_count": 0,
      "outputs": []
    },
    {
      "cell_type": "code",
      "metadata": {
        "id": "fGzycfD7UuVu",
        "colab_type": "code",
        "colab": {}
      },
      "source": [
        "# Loss Functions\n",
        "def binary_regression_error(y_true, y_pred):\n",
        "    return 1./32 * K.log(1 + K.exp(-y_true*y_pred))\n",
        "\n",
        "def mask_binary_regression_error(y_true, y_pred):\n",
        "    return 0.5 * (1 - y_true[0][0][0]) * K.mean(K.log(1 + K.exp(-y_true*y_pred)))\n",
        "#  Build the model and compile it\n",
        "model = Model(inputs=inp, outputs=[seg_predictions, score_predictions])\n",
        "sgd = SGD(lr=0.001, decay=0.00005, momentum=0.9, nesterov=True, clipvalue=500)\n",
        "model.compile(optimizer=sgd, loss={'score_out': binary_regression_error, 'seg_out': mask_binary_regression_error},metrics=['accuracy'])"
      ],
      "execution_count": 0,
      "outputs": []
    },
    {
      "cell_type": "code",
      "metadata": {
        "id": "wFU8vyMNakK-",
        "colab_type": "code",
        "colab": {}
      },
      "source": [
        "#Training\n",
        "model.fit({'in': im[:70]}, {'score_out': sc[:70], 'seg_out': ma[:70]}, epochs=500, verbose=1, shuffle=True)"
      ],
      "execution_count": 0,
      "outputs": []
    },
    {
      "cell_type": "code",
      "metadata": {
        "id": "v90bbFwL6QMJ",
        "colab_type": "code",
        "colab": {}
      },
      "source": [
        "tes=im[:30]"
      ],
      "execution_count": 0,
      "outputs": []
    },
    {
      "cell_type": "code",
      "metadata": {
        "id": "CiWUnp1oaj91",
        "colab_type": "code",
        "colab": {}
      },
      "source": [
        "plt.imshow(tes[21]/255)"
      ],
      "execution_count": 0,
      "outputs": []
    },
    {
      "cell_type": "code",
      "metadata": {
        "id": "yQbr_15PpD3Z",
        "colab_type": "code",
        "colab": {}
      },
      "source": [
        "plt.imshow(tes[21]/255)\n",
        "plt.imshow(ma[21], alpha = 0.5)\n",
        "plt.show()"
      ],
      "execution_count": 0,
      "outputs": []
    },
    {
      "cell_type": "code",
      "metadata": {
        "id": "bFrqR47j62u3",
        "colab_type": "code",
        "colab": {}
      },
      "source": [
        "#prediction\n",
        "re=model.predict(tes)"
      ],
      "execution_count": 0,
      "outputs": []
    },
    {
      "cell_type": "code",
      "metadata": {
        "id": "w3lun2RW7ZWs",
        "colab_type": "code",
        "colab": {}
      },
      "source": [
        "plt.imshow(tes[21]/255)\n",
        "plt.imshow(re[0][21], alpha=0.5)\n",
        "plt.show()"
      ],
      "execution_count": 0,
      "outputs": []
    },
    {
      "cell_type": "code",
      "metadata": {
        "id": "2dkY-SKc7fZH",
        "colab_type": "code",
        "colab": {}
      },
      "source": [
        "#saving the model in json file\n",
        "from keras.models import model_from_json\n",
        "from keras.models import load_model\n",
        "model_json = model.to_json()\n",
        "\n",
        "with open(\"model_num.json\", \"w\") as json_file:\n",
        "  json_file.write(model_json)\n",
        "\n",
        "  model.save_weights(\"model_num.h5\")"
      ],
      "execution_count": 0,
      "outputs": []
    },
    {
      "cell_type": "code",
      "metadata": {
        "id": "n5umAZB_JlO4",
        "colab_type": "code",
        "colab": {}
      },
      "source": [
        ""
      ],
      "execution_count": 0,
      "outputs": []
    }
  ]
}